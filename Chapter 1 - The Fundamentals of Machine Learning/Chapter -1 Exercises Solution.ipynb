{
 "cells": [
  {
   "cell_type": "markdown",
   "metadata": {},
   "source": [
    "### Ques 1. How would you define Machine Learning?"
   ]
  },
  {
   "cell_type": "markdown",
   "metadata": {},
   "source": [
    "**Ans 1.** Machine Learning can be defined in the following ways:\n",
    "     \n",
    "**a. Traditional-** It gives computers a learning ability to perform some tasks without being explicitly programmed for it.\n",
    "\n",
    "**b. Standard-** For a machine to perform some task T, it should learn to perform that task using experience E and evaluated using a performance criteria P.\n",
    "\n",
    "***The ideal learning situation can be defined as if the performance P improves on task T using the experience E.***\n",
    "\n",
    "**For example:** Teaching a toddler to say Mummy or Daddy on the basis of their closeness (love and affection) with the baby.\n",
    "\n",
    "---"
   ]
  },
  {
   "cell_type": "markdown",
   "metadata": {},
   "source": [
    "### Ques 2. Can you name four types of problems where it shines?"
   ]
  },
  {
   "cell_type": "markdown",
   "metadata": {},
   "source": [
    "**Ans 2.**      \n",
    "\n",
    "a. When the traditional approach of coding fails. It means when the patterns in the problem are a lot and writing a code for each and every pattern becomes bulky and tough to maintain. This is where it will come into the picture.\n",
    "\n",
    "b. When the problem is to doing good with the old and new data points.\n",
    "\n",
    "c. When the time is to get the insights from the complex and large amount of data.\n",
    "\n",
    "---"
   ]
  },
  {
   "cell_type": "markdown",
   "metadata": {},
   "source": [
    "### Ques 3. What is a labeled training set?"
   ]
  },
  {
   "cell_type": "markdown",
   "metadata": {},
   "source": [
    "**Ans 3.** A training set is said to be labeled when the problem you are working upon has already the solutions. \n",
    "\n",
    "*The definition might be confusing.*\n",
    "\n",
    "#### Example\n",
    "Let's take the classic example of spam detection problem. When the model need to distinguish between a spam and non-spam emails. In such scenarios the data of spam and non-emails are available separately. The labeling generally done manually and *by the time model generalizes to the new points it started auto-labeling or annotating the data on their own* (Consider the thing in italics as a research problem).\n",
    "\n",
    "---"
   ]
  }
 ],
 "metadata": {
  "kernelspec": {
   "display_name": "Python 3",
   "language": "python",
   "name": "python3"
  },
  "language_info": {
   "codemirror_mode": {
    "name": "ipython",
    "version": 3
   },
   "file_extension": ".py",
   "mimetype": "text/x-python",
   "name": "python",
   "nbconvert_exporter": "python",
   "pygments_lexer": "ipython3",
   "version": "3.8.5"
  }
 },
 "nbformat": 4,
 "nbformat_minor": 4
}
